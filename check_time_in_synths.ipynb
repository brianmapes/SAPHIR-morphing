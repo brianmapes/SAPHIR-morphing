{
 "cells": [
  {
   "cell_type": "markdown",
   "metadata": {},
   "source": [
    "# Check time in SAPHIR \"synths\" \n",
    "## a synth is advected data from one orbit of the satellite\n",
    "### advected forward or backward\n",
    "#### Erfan Jahangir and Brian Mapes May 2018\n",
    "\n",
    "Matlab codes have been used to create a set of hourly \"synths\" consisting of NaN-filled arrays with one orbit swath of data advected to the (hourly) target hour. \n",
    "\n",
    "Debugging observation time\n",
    "---------\n",
    "---------"
   ]
  },
  {
   "cell_type": "code",
   "execution_count": 9,
   "metadata": {},
   "outputs": [],
   "source": [
    "import numpy as np \n",
    "import glob             # to list available files\n",
    "import scipy.io as spio # to read the .mat files|\n",
    "import datetime"
   ]
  },
  {
   "cell_type": "markdown",
   "metadata": {},
   "source": [
    "------------\n",
    "# Set time of desired hourly product:\n",
    "------------"
   ]
  },
  {
   "cell_type": "code",
   "execution_count": 10,
   "metadata": {},
   "outputs": [
    {
     "name": "stdout",
     "output_type": "stream",
     "text": [
      "20120102T03,  time from 1970-1-1 is 15341 days, 3:00:00\n"
     ]
    }
   ],
   "source": [
    "now = datetime.datetime(2012,1,2,0,0) + datetime.timedelta(hours=3)\n",
    "\n",
    "\n",
    "prodtime = now - datetime.datetime(1970, 1, 1)\n",
    "print(now.strftime('%Y%m%dT%H,'), ' time from 1970-1-1 is', prodtime)"
   ]
  },
  {
   "cell_type": "markdown",
   "metadata": {},
   "source": [
    "# Now print time arrays in all synths (forward or backward)"
   ]
  },
  {
   "cell_type": "code",
   "execution_count": 14,
   "metadata": {},
   "outputs": [
    {
     "name": "stdout",
     "output_type": "stream",
     "text": [
      "../SAPHIR-morphing-data-201201_7days/Synths/2012-01-02T22-06-39backward20120102T030000.mat\n",
      "42702  non-missing values\n",
      "15341.921284294156  to  15341.988158725873\n",
      "2012-01-02 22:06:38.963015  to  2012-01-02 23:42:56.913915\n",
      "\n",
      "../SAPHIR-morphing-data-201201_7days/Synths/2012-01-02T11-00-22backward20120102T030000.mat\n",
      "49044  non-missing values\n",
      "15341.458585683047  to  15341.538429301103\n",
      "2012-01-02 11:00:21.803015  to  2012-01-02 12:55:20.291615\n",
      "\n",
      "../SAPHIR-morphing-data-201201_7days/Synths/2012-01-02T16-29-27backward20120102T030000.mat\n",
      "46880  non-missing values\n",
      "15341.687119317306  to  15341.766564745545\n",
      "2012-01-02 16:29:27.109015  to  2012-01-02 18:23:51.194015\n",
      "\n",
      "../SAPHIR-morphing-data-201201_7days/Synths/2012-01-02T20-10-12backward20120102T030000.mat\n",
      "33730  non-missing values\n",
      "15341.840416765219  to  15341.892975906427\n",
      "2012-01-02 20:10:12.008515  to  2012-01-02 21:25:53.118315\n",
      "\n",
      "../SAPHIR-morphing-data-201201_7days/Synths/2012-01-02T09-11-34backward20120102T030000.mat\n",
      "49480  non-missing values\n",
      "15341.383027199246  to  15341.462188220083\n",
      "2012-01-02 09:11:33.550015  to  2012-01-02 11:05:33.062215\n",
      "\n",
      "../SAPHIR-morphing-data-201201_7days/Synths/2012-01-02T18-19-08backward20120102T030000.mat\n",
      "48404  non-missing values\n",
      "15341.763284543  to  15341.84369696892\n",
      "2012-01-02 18:19:07.784515  to  2012-01-02 20:14:55.418115\n",
      "\n",
      "../SAPHIR-morphing-data-201201_7days/Synths/2012-01-02T12-50-42backward20120102T030000.mat\n",
      "47586  non-missing values\n",
      "15341.535205985128  to  15341.614518695771\n",
      "2012-01-02 12:50:41.797115  to  2012-01-02 14:44:54.415315\n",
      "\n",
      "../SAPHIR-morphing-data-201201_7days/Synths/2012-01-02T03-26-10backward20120102T030000.mat\n",
      "50364  non-missing values\n",
      "15341.143173950402  to  15341.236745106653\n",
      "2012-01-02 03:26:10.229315  to  2012-01-02 05:40:54.777215\n",
      "\n",
      "../SAPHIR-morphing-data-201201_7days/Synths/2012-01-02T14-40-09backward20120102T030000.mat\n",
      "46452  non-missing values\n",
      "15341.611219530263  to  15341.69039952101\n",
      "2012-01-02 14:40:09.367415  to  2012-01-02 16:34:10.518615\n",
      "\n",
      "../SAPHIR-morphing-data-201201_7days/Synths/2012-01-02T05-36-11backward20120102T030000.mat\n",
      "48276  non-missing values\n",
      "15341.233464906423  to  15341.310881571933\n",
      "2012-01-02 05:36:11.367915  to  2012-01-02 07:27:40.167815\n",
      "\n",
      "../SAPHIR-morphing-data-201201_7days/Synths/2012-01-02T11-12-23backward20120102T030000.mat\n",
      "45094  non-missing values\n",
      "15341.466928420312  to  15341.538429305727\n",
      "2012-01-02 11:12:22.615515  to  2012-01-02 12:55:20.292015\n",
      "\n",
      "../SAPHIR-morphing-data-201201_7days/Synths/2012-01-03T01-30-27backward20120102T030000.mat\n",
      "48040  non-missing values\n",
      "15342.062807133276  to  15342.138156999019\n",
      "2012-01-03 01:30:26.536315  to  2012-01-03 03:18:56.764715\n",
      "\n",
      "../SAPHIR-morphing-data-201201_7days/Synths/2012-01-02T07-22-57backward20120102T030000.mat\n",
      "49020  non-missing values\n",
      "15341.3076013717  to  15341.386193640219\n",
      "2012-01-02 07:22:56.758515  to  2012-01-02 09:16:07.130515\n",
      "\n",
      "../SAPHIR-morphing-data-201201_7days/Synths/2012-01-02T23-38-09backward20120102T030000.mat\n",
      "49166  non-missing values\n",
      "15341.984821641374  to  15342.062693317304\n",
      "2012-01-02 23:38:08.589815  to  2012-01-03 01:30:16.702615\n",
      "\n"
     ]
    }
   ],
   "source": [
    "wildcard = '../SAPHIR-morphing-data-201201_7days/Synths/*backward*' + now.strftime('%Y%m%dT%H') +'*mat'\n",
    "\n",
    "for idx,filename in enumerate(glob.iglob(wildcard), start=0):\n",
    "    print(filename) \n",
    "    mat = spio.loadmat(filename, squeeze_me=True, struct_as_record=False)\n",
    "    synth = mat['synth']\n",
    "    obtime = synth.sourcetime \n",
    "        \n",
    "    print( np.size(np.where(~np.isnan(synth.gridded))), ' non-missing values')\n",
    "    \n",
    "    print( np.min(obtime) , ' to ', np.max(obtime) )\n",
    "    \n",
    "    print( datetime.datetime(1970, 1, 1) + datetime.timedelta(seconds= 3600.*24*np.min(obtime)) , ' to ', \\\n",
    "           datetime.datetime(1970, 1, 1) + datetime.timedelta(seconds= 3600.*24*np.max(obtime)) )\n",
    "    \n",
    "    print()"
   ]
  },
  {
   "cell_type": "code",
   "execution_count": 15,
   "metadata": {},
   "outputs": [
    {
     "name": "stdout",
     "output_type": "stream",
     "text": [
      "../SAPHIR-morphing-data-201201_7days/Synths/2012-01-01T07-34-45forward20120102T030000.mat\n",
      "48582  non-missing values\n",
      "15340.315803666841  to  15340.39452871429\n",
      "2012-01-01 07:34:45.436815  to  2012-01-01 09:28:07.280915\n",
      "\n",
      "../SAPHIR-morphing-data-201201_7days/Synths/2012-01-01T14-52-08forward20120102T030000.mat\n",
      "45816  non-missing values\n",
      "15340.61953565642  to  15340.698677722396\n",
      "2012-01-01 14:52:07.880715  to  2012-01-01 16:46:05.755215\n",
      "\n",
      "../SAPHIR-morphing-data-201201_7days/Synths/2012-01-01T15-03-13forward20120102T030000.mat\n",
      "45672  non-missing values\n",
      "15340.627233772168  to  15340.6986777305\n",
      "2012-01-01 15:03:12.997915  to  2012-01-01 16:46:05.755915\n",
      "\n",
      "../SAPHIR-morphing-data-201201_7days/Synths/2012-01-01T11-12-38forward20120102T030000.mat\n",
      "47326  non-missing values\n",
      "15340.467110374018  to  15340.546669576566\n",
      "2012-01-01 11:12:38.336315  to  2012-01-01 13:07:12.251415\n",
      "\n",
      "../SAPHIR-morphing-data-201201_7days/Synths/2012-01-01T20-21-57forward20120102T030000.mat\n",
      "32486  non-missing values\n",
      "15340.848581207347  to  15340.901140378643\n",
      "2012-01-01 20:21:57.416315  to  2012-01-01 21:37:38.528715\n",
      "\n",
      "../SAPHIR-morphing-data-201201_7days/Synths/2012-01-01T13-02-17forward20120102T030000.mat\n",
      "48616  non-missing values\n",
      "15340.543256650635  to  15340.622796896008\n",
      "2012-01-01 13:02:17.374615  to  2012-01-01 14:56:49.651815\n",
      "\n",
      "../SAPHIR-morphing-data-201201_7days/Synths/2012-01-01T18-31-01forward20120102T030000.mat\n",
      "48774  non-missing values\n",
      "15340.77154379068  to  15340.851690762902\n",
      "2012-01-01 18:31:01.383515  to  2012-01-01 20:26:26.081915\n",
      "\n",
      "../SAPHIR-morphing-data-201201_7days/Synths/2012-01-01T16-41-22forward20120102T030000.mat\n",
      "2544  non-missing values\n",
      "15340.69539752332  to  15340.774767108967\n",
      "2012-01-01 16:41:22.346015  to  2012-01-01 18:35:39.878215\n",
      "\n",
      "../SAPHIR-morphing-data-201201_7days/Synths/2012-01-01T23-23-13forward20120102T030000.mat\n",
      "48016  non-missing values\n",
      "15340.974461463135  to  15341.053148459665\n",
      "2012-01-01 23:23:13.470415  to  2012-01-02 01:16:32.026915\n",
      "\n",
      "../SAPHIR-morphing-data-201201_7days/Synths/2012-01-01T09-23-19forward20120102T030000.mat\n",
      "47070  non-missing values\n",
      "15340.391191630959  to  15340.470409534893\n",
      "2012-01-01 09:23:18.956915  to  2012-01-01 11:17:23.383815\n",
      "\n",
      "../SAPHIR-morphing-data-201201_7days/Synths/2012-01-01T21-33-12forward20120102T030000.mat\n",
      "48352  non-missing values\n",
      "15340.89804978721  to  15340.977495171472\n",
      "2012-01-01 21:33:11.501615  to  2012-01-01 23:27:35.582815\n",
      "\n",
      "../SAPHIR-morphing-data-201201_7days/Synths/2012-01-02T01-16-42forward20120102T030000.mat\n",
      "53394  non-missing values\n",
      "15341.053262306888  to  15341.14651103258\n",
      "2012-01-02 01:16:41.863315  to  2012-01-02 03:30:58.553215\n",
      "\n"
     ]
    }
   ],
   "source": [
    "wildcard = '../SAPHIR-morphing-data-201201_7days/Synths/*forward*' + now.strftime('%Y%m%dT%H') +'*mat'\n",
    "\n",
    "for idx,filename in enumerate(glob.iglob(wildcard), start=0):\n",
    "    print(filename) \n",
    "    mat = spio.loadmat(filename, squeeze_me=True, struct_as_record=False)\n",
    "    synth = mat['synth']\n",
    "    obtime = synth.sourcetime \n",
    "        \n",
    "    print( np.size(np.where(~np.isnan(synth.gridded))), ' non-missing values')\n",
    "\n",
    "    print( np.min(obtime) , ' to ', np.max(obtime) )\n",
    "    \n",
    "    print( datetime.datetime(1970, 1, 1) + datetime.timedelta(seconds= 3600.*24*np.min(obtime)) , ' to ', \\\n",
    "           datetime.datetime(1970, 1, 1) + datetime.timedelta(seconds= 3600.*24*np.max(obtime)) )\n",
    "    print()"
   ]
  },
  {
   "cell_type": "code",
   "execution_count": null,
   "metadata": {},
   "outputs": [],
   "source": [
    "test\n"
   ]
  },
  {
   "cell_type": "code",
   "execution_count": null,
   "metadata": {},
   "outputs": [],
   "source": []
  }
 ],
 "metadata": {
  "kernelspec": {
   "display_name": "Python 3",
   "language": "python",
   "name": "python3"
  },
  "language_info": {
   "codemirror_mode": {
    "name": "ipython",
    "version": 3
   },
   "file_extension": ".py",
   "mimetype": "text/x-python",
   "name": "python",
   "nbconvert_exporter": "python",
   "pygments_lexer": "ipython3",
   "version": "3.6.4"
  }
 },
 "nbformat": 4,
 "nbformat_minor": 2
}
