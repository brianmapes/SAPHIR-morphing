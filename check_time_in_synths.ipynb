{
 "cells": [
  {
   "cell_type": "markdown",
   "metadata": {},
   "source": [
    "# Check time in SAPHIR \"synths\" \n",
    "## a synth is advected data from one orbit of the satellite\n",
    "### advected forward or backward\n",
    "#### Erfan Jahangir and Brian Mapes May 2018\n",
    "\n",
    "Matlab codes have been used to create a set of hourly \"synths\" consisting of NaN-filled arrays with one orbit swath of data advected to the (hourly) target hour. \n",
    "\n",
    "Debugging observation time\n",
    "---------\n",
    "---------"
   ]
  },
  {
   "cell_type": "code",
   "execution_count": 1,
   "metadata": {},
   "outputs": [],
   "source": [
    "import numpy as np \n",
    "import glob             # to list available files\n",
    "import scipy.io as spio # to read the .mat files\n",
    "import datetime"
   ]
  },
  {
   "cell_type": "markdown",
   "metadata": {},
   "source": [
    "------------\n",
    "# Set time of desired hourly product:\n",
    "------------"
   ]
  },
  {
   "cell_type": "code",
   "execution_count": 2,
   "metadata": {},
   "outputs": [
    {
     "name": "stdout",
     "output_type": "stream",
     "text": [
      "20120103T12,  time from 1970-1-1 is 15342 days, 12:00:00\n"
     ]
    }
   ],
   "source": [
    "now = datetime.datetime(2012,1,3,0,0) + datetime.timedelta(hours=12)\n",
    "\n",
    "\n",
    "prodtime = now - datetime.datetime(1970, 1, 1)\n",
    "print(now.strftime('%Y%m%dT%H,'), ' time from 1970-1-1 is', prodtime)"
   ]
  },
  {
   "cell_type": "markdown",
   "metadata": {},
   "source": [
    "# Now print time arrays in all synths (forward or backward)"
   ]
  },
  {
   "cell_type": "code",
   "execution_count": 3,
   "metadata": {},
   "outputs": [
    {
     "name": "stdout",
     "output_type": "stream",
     "text": [
      "Synths/2012-01-04T05-11-14backward20120103T120000.mat\n",
      "45832  non-missing values\n",
      "15342.458333333332  to  15342.5\n",
      "2012-01-03 11:00:00  to  2012-01-03 12:00:00\n",
      "\n",
      "Synths/2012-01-03T16-17-29backward20120103T120000.mat\n",
      "48032  non-missing values\n",
      "15342.458333333332  to  15342.541666666666\n",
      "2012-01-03 11:00:00  to  2012-01-03 13:00:00\n",
      "\n",
      "Synths/2012-01-03T19-58-18backward20120103T120000.mat\n",
      "33464  non-missing values\n",
      "15342.458333333332  to  15342.541666666666\n",
      "2012-01-03 11:00:00  to  2012-01-03 13:00:00\n",
      "\n",
      "Synths/2012-01-03T12-38-40backward20120103T120000.mat\n",
      "48218  non-missing values\n",
      "15342.458333333332  to  15342.541666666666\n",
      "2012-01-03 11:00:00  to  2012-01-03 13:00:00\n",
      "\n",
      "Synths/2012-01-03T14-28-09backward20120103T120000.mat\n",
      "47794  non-missing values\n",
      "15342.458333333332  to  15342.541666666666\n",
      "2012-01-03 11:00:00  to  2012-01-03 13:00:00\n",
      "\n",
      "Synths/2012-01-03T18-07-29backward20120103T120000.mat\n",
      "48886  non-missing values\n",
      "15342.458333333332  to  15342.541666666666\n",
      "2012-01-03 11:00:00  to  2012-01-03 13:00:00\n",
      "\n"
     ]
    }
   ],
   "source": [
    "wildcard = 'Synths/*backward*' + now.strftime('%Y%m%dT%H') +'*mat'\n",
    "\n",
    "for idx,filename in enumerate(glob.iglob(wildcard), start=0):\n",
    "    print(filename) \n",
    "    mat = spio.loadmat(filename, squeeze_me=True, struct_as_record=False)\n",
    "    synth = mat['synth']\n",
    "    obtime = synth.time \n",
    "        \n",
    "    print( np.size(np.where(~np.isnan(synth.gridded))), ' non-missing values')\n",
    "    \n",
    "    print( np.min(obtime) , ' to ', np.max(obtime) )\n",
    "    \n",
    "    print( datetime.datetime(1970, 1, 1) + datetime.timedelta(seconds= 3600.*24*np.min(obtime)) , ' to ', \\\n",
    "           datetime.datetime(1970, 1, 1) + datetime.timedelta(seconds= 3600.*24*np.max(obtime)) )\n",
    "    \n",
    "    print()"
   ]
  },
  {
   "cell_type": "code",
   "execution_count": 4,
   "metadata": {},
   "outputs": [
    {
     "name": "stdout",
     "output_type": "stream",
     "text": [
      "Synths/2012-01-02T22-06-39forward20120103T120000.mat\n",
      "41602  non-missing values\n",
      "15341.291666666666  to  15341.333333333332\n",
      "2012-01-02 07:00:00  to  2012-01-02 08:00:00\n",
      "\n",
      "Synths/2012-01-02T18-19-08forward20120103T120000.mat\n",
      "48474  non-missing values\n",
      "15341.125  to  15341.208333333332\n",
      "2012-01-02 03:00:00  to  2012-01-02 05:00:00\n",
      "\n",
      "Synths/2012-01-03T10-49-01forward20120103T120000.mat\n",
      "48700  non-missing values\n",
      "15341.791666666666  to  15341.875\n",
      "2012-01-02 19:00:00  to  2012-01-02 21:00:00\n",
      "\n",
      "Synths/2012-01-03T07-10-42forward20120103T120000.mat\n",
      "48680  non-missing values\n",
      "15341.666666666666  to  15341.75\n",
      "2012-01-02 16:00:00  to  2012-01-02 18:00:00\n",
      "\n",
      "Synths/2012-01-02T16-29-27forward20120103T120000.mat\n",
      "49218  non-missing values\n",
      "15341.041666666666  to  15341.125\n",
      "2012-01-02 01:00:00  to  2012-01-02 03:00:00\n",
      "\n",
      "Synths/2012-01-03T05-23-50forward20120103T120000.mat\n",
      "48572  non-missing values\n",
      "15341.583333333332  to  15341.666666666666\n",
      "2012-01-02 14:00:00  to  2012-01-02 16:00:00\n",
      "\n",
      "Synths/2012-01-02T23-38-09forward20120103T120000.mat\n",
      "46908  non-missing values\n",
      "15341.333333333332  to  15341.416666666666\n",
      "2012-01-02 08:00:00  to  2012-01-02 10:00:00\n",
      "\n",
      "Synths/2012-01-03T01-30-27forward20120103T120000.mat\n",
      "46694  non-missing values\n",
      "15341.416666666666  to  15341.5\n",
      "2012-01-02 10:00:00  to  2012-01-02 12:00:00\n",
      "\n",
      "Synths/2012-01-03T03-14-05forward20120103T120000.mat\n",
      "50016  non-missing values\n",
      "15341.5  to  15341.583333333332\n",
      "2012-01-02 12:00:00  to  2012-01-02 14:00:00\n",
      "\n",
      "Synths/2012-01-02T20-10-12forward20120103T120000.mat\n",
      "31654  non-missing values\n",
      "15341.208333333332  to  15341.25\n",
      "2012-01-02 05:00:00  to  2012-01-02 06:00:00\n",
      "\n",
      "Synths/2012-01-03T08-59-42forward20120103T120000.mat\n",
      "48756  non-missing values\n",
      "15341.708333333332  to  15341.791666666666\n",
      "2012-01-02 17:00:00  to  2012-01-02 19:00:00\n",
      "\n"
     ]
    }
   ],
   "source": [
    "wildcard = 'Synths/*forward*' + now.strftime('%Y%m%dT%H') +'*mat'\n",
    "\n",
    "for idx,filename in enumerate(glob.iglob(wildcard), start=0):\n",
    "    print(filename) \n",
    "    mat = spio.loadmat(filename, squeeze_me=True, struct_as_record=False)\n",
    "    synth = mat['synth']\n",
    "    obtime = synth.time \n",
    "        \n",
    "    print( np.size(np.where(~np.isnan(synth.gridded))), ' non-missing values')\n",
    "\n",
    "    print( np.min(obtime) , ' to ', np.max(obtime) )\n",
    "    \n",
    "    print( datetime.datetime(1970, 1, 1) + datetime.timedelta(seconds= 3600.*24*np.min(obtime)) , ' to ', \\\n",
    "           datetime.datetime(1970, 1, 1) + datetime.timedelta(seconds= 3600.*24*np.max(obtime)) )\n",
    "    print()"
   ]
  },
  {
   "cell_type": "code",
   "execution_count": null,
   "metadata": {},
   "outputs": [],
   "source": []
  },
  {
   "cell_type": "code",
   "execution_count": null,
   "metadata": {},
   "outputs": [],
   "source": []
  }
 ],
 "metadata": {
  "kernelspec": {
   "display_name": "Python 3",
   "language": "python",
   "name": "python3"
  },
  "language_info": {
   "codemirror_mode": {
    "name": "ipython",
    "version": 3
   },
   "file_extension": ".py",
   "mimetype": "text/x-python",
   "name": "python",
   "nbconvert_exporter": "python",
   "pygments_lexer": "ipython3",
   "version": "3.6.4"
  }
 },
 "nbformat": 4,
 "nbformat_minor": 2
}
