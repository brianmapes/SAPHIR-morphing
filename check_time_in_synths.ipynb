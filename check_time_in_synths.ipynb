{
 "cells": [
  {
   "cell_type": "markdown",
   "metadata": {},
   "source": [
    "# Check time in SAPHIR \"synths\" \n",
    "## a synth is advected data from one orbit of the satellite\n",
    "### advected forward or backward\n",
    "#### Erfan Jahangir and Brian Mapes May 2018\n",
    "\n",
    "Matlab codes have been used to create a set of hourly \"synths\" consisting of NaN-filled arrays with one orbit swath of data advected to the (hourly) target hour. \n",
    "\n",
    "Debugging observation time\n",
    "---------\n"
   ]
  },
  {
   "cell_type": "code",
   "execution_count": 37,
   "metadata": {},
   "outputs": [],
   "source": [
    "import numpy as np \n",
    "import glob             # to list available files\n",
    "import scipy.io as spio # to read the .mat files\n",
    "import datetime"
   ]
  },
  {
   "cell_type": "markdown",
   "metadata": {},
   "source": [
    "------------\n",
    "# Set time of desired hourly product:\n",
    "------------"
   ]
  },
  {
   "cell_type": "code",
   "execution_count": 43,
   "metadata": {},
   "outputs": [
    {
     "name": "stdout",
     "output_type": "stream",
     "text": [
      "20120104T00,  time from 1970-1-1 is 15343 days, 0:00:00\n"
     ]
    }
   ],
   "source": [
    "now = datetime.datetime(2012,1,4,0,0) + datetime.timedelta(hours=0)\n",
    "\n",
    "\n",
    "prodtime = now - datetime.datetime(1970, 1, 1)\n",
    "print(now.strftime('%Y%m%dT%H,'), ' time from 1970-1-1 is', prodtime)"
   ]
  },
  {
   "cell_type": "markdown",
   "metadata": {},
   "source": [
    "# Now print time arrays in all synths (forward or backward)"
   ]
  },
  {
   "cell_type": "code",
   "execution_count": 44,
   "metadata": {},
   "outputs": [
    {
     "name": "stdout",
     "output_type": "stream",
     "text": [
      "Synths/2012-01-04T05-11-14backward20120104T000000.mat\n",
      "46112  non-missing values\n",
      "15342.958333333332  to  15343.0\n",
      "2012-01-03 23:00:00  to  2012-01-04 00:00:00\n",
      "\n",
      "Synths/2012-01-04T09-08-02backward20120104T000000.mat\n",
      "564  non-missing values\n",
      "15343  to  15343\n",
      "2012-01-04 00:00:00  to  2012-01-04 00:00:00\n",
      "\n",
      "Synths/2012-01-04T10-37-05backward20120104T000000.mat\n",
      "48320  non-missing values\n",
      "15342.958333333332  to  15343.041666666666\n",
      "2012-01-03 23:00:00  to  2012-01-04 01:00:00\n",
      "\n",
      "Synths/2012-01-04T09-14-06backward20120104T000000.mat\n",
      "550  non-missing values\n",
      "15343  to  15343\n",
      "2012-01-04 00:00:00  to  2012-01-04 00:00:00\n",
      "\n",
      "Synths/2012-01-04T12-26-41backward20120104T000000.mat\n",
      "47154  non-missing values\n",
      "15342.958333333332  to  15343.041666666666\n",
      "2012-01-03 23:00:00  to  2012-01-04 01:00:00\n",
      "\n",
      "Synths/2012-01-04T09-20-09backward20120104T000000.mat\n",
      "35666  non-missing values\n",
      "15342.958333333332  to  15343.0\n",
      "2012-01-03 23:00:00  to  2012-01-04 00:00:00\n",
      "\n",
      "Synths/2012-01-04T16-05-30backward20120104T000000.mat\n",
      "46970  non-missing values\n",
      "15342.958333333332  to  15343.041666666666\n",
      "2012-01-03 23:00:00  to  2012-01-04 01:00:00\n",
      "\n",
      "Synths/2012-01-04T09-01-57backward20120104T000000.mat\n",
      "512  non-missing values\n",
      "15343  to  15343\n",
      "2012-01-04 00:00:00  to  2012-01-04 00:00:00\n",
      "\n",
      "Synths/2012-01-04T08-55-53backward20120104T000000.mat\n",
      "516  non-missing values\n",
      "15343  to  15343\n",
      "2012-01-04 00:00:00  to  2012-01-04 00:00:00\n",
      "\n",
      "Synths/2012-01-04T14-16-15backward20120104T000000.mat\n",
      "46434  non-missing values\n",
      "15342.958333333332  to  15343.041666666666\n",
      "2012-01-03 23:00:00  to  2012-01-04 01:00:00\n",
      "\n",
      "Synths/2012-01-04T08-49-50backward20120104T000000.mat\n",
      "576  non-missing values\n",
      "15343  to  15343\n",
      "2012-01-04 00:00:00  to  2012-01-04 00:00:00\n",
      "\n"
     ]
    }
   ],
   "source": [
    "wildcard = 'Synths/*backward*' + now.strftime('%Y%m%dT%H') +'*mat'\n",
    "\n",
    "for idx,filename in enumerate(glob.iglob(futurefiles_wildcard), start=0):\n",
    "    print(filename) \n",
    "    mat = spio.loadmat(filename, squeeze_me=True, struct_as_record=False)\n",
    "    synth = mat['synth']\n",
    "    obtime = synth.time \n",
    "        \n",
    "    print( np.size(np.where(~np.isnan(synth.gridded))), ' non-missing values')\n",
    "    \n",
    "    print( np.min(obtime) , ' to ', np.max(obtime) )\n",
    "    \n",
    "    print( datetime.datetime(1970, 1, 1) + datetime.timedelta(seconds= 3600.*24*np.min(obtime)) , ' to ', \\\n",
    "           datetime.datetime(1970, 1, 1) + datetime.timedelta(seconds= 3600.*24*np.max(obtime)) )\n",
    "    print()"
   ]
  },
  {
   "cell_type": "code",
   "execution_count": 45,
   "metadata": {},
   "outputs": [
    {
     "name": "stdout",
     "output_type": "stream",
     "text": [
      "Synths/2012-01-04T05-11-14backward20120104T000000.mat\n",
      "46112  non-missing values\n",
      "15342.958333333332  to  15343.0\n",
      "2012-01-03 23:00:00  to  2012-01-04 00:00:00\n",
      "\n",
      "Synths/2012-01-04T09-08-02backward20120104T000000.mat\n",
      "564  non-missing values\n",
      "15343  to  15343\n",
      "2012-01-04 00:00:00  to  2012-01-04 00:00:00\n",
      "\n",
      "Synths/2012-01-04T10-37-05backward20120104T000000.mat\n",
      "48320  non-missing values\n",
      "15342.958333333332  to  15343.041666666666\n",
      "2012-01-03 23:00:00  to  2012-01-04 01:00:00\n",
      "\n",
      "Synths/2012-01-04T09-14-06backward20120104T000000.mat\n",
      "550  non-missing values\n",
      "15343  to  15343\n",
      "2012-01-04 00:00:00  to  2012-01-04 00:00:00\n",
      "\n",
      "Synths/2012-01-04T12-26-41backward20120104T000000.mat\n",
      "47154  non-missing values\n",
      "15342.958333333332  to  15343.041666666666\n",
      "2012-01-03 23:00:00  to  2012-01-04 01:00:00\n",
      "\n",
      "Synths/2012-01-04T09-20-09backward20120104T000000.mat\n",
      "35666  non-missing values\n",
      "15342.958333333332  to  15343.0\n",
      "2012-01-03 23:00:00  to  2012-01-04 00:00:00\n",
      "\n",
      "Synths/2012-01-04T16-05-30backward20120104T000000.mat\n",
      "46970  non-missing values\n",
      "15342.958333333332  to  15343.041666666666\n",
      "2012-01-03 23:00:00  to  2012-01-04 01:00:00\n",
      "\n",
      "Synths/2012-01-04T09-01-57backward20120104T000000.mat\n",
      "512  non-missing values\n",
      "15343  to  15343\n",
      "2012-01-04 00:00:00  to  2012-01-04 00:00:00\n",
      "\n",
      "Synths/2012-01-04T08-55-53backward20120104T000000.mat\n",
      "516  non-missing values\n",
      "15343  to  15343\n",
      "2012-01-04 00:00:00  to  2012-01-04 00:00:00\n",
      "\n",
      "Synths/2012-01-04T14-16-15backward20120104T000000.mat\n",
      "46434  non-missing values\n",
      "15342.958333333332  to  15343.041666666666\n",
      "2012-01-03 23:00:00  to  2012-01-04 01:00:00\n",
      "\n",
      "Synths/2012-01-04T08-49-50backward20120104T000000.mat\n",
      "576  non-missing values\n",
      "15343  to  15343\n",
      "2012-01-04 00:00:00  to  2012-01-04 00:00:00\n",
      "\n"
     ]
    }
   ],
   "source": [
    "wildcard = 'Synths/*forward*' + now.strftime('%Y%m%dT%H') +'*mat'\n",
    "\n",
    "for idx,filename in enumerate(glob.iglob(futurefiles_wildcard), start=0):\n",
    "    print(filename) \n",
    "    mat = spio.loadmat(filename, squeeze_me=True, struct_as_record=False)\n",
    "    synth = mat['synth']\n",
    "    obtime = synth.time \n",
    "        \n",
    "    print( np.size(np.where(~np.isnan(synth.gridded))), ' non-missing values')\n",
    "\n",
    "    print( np.min(obtime) , ' to ', np.max(obtime) )\n",
    "    \n",
    "    print( datetime.datetime(1970, 1, 1) + datetime.timedelta(seconds= 3600.*24*np.min(obtime)) , ' to ', \\\n",
    "           datetime.datetime(1970, 1, 1) + datetime.timedelta(seconds= 3600.*24*np.max(obtime)) )\n",
    "    print()"
   ]
  },
  {
   "cell_type": "code",
   "execution_count": null,
   "metadata": {},
   "outputs": [],
   "source": []
  }
 ],
 "metadata": {
  "kernelspec": {
   "display_name": "Python 3",
   "language": "python",
   "name": "python3"
  },
  "language_info": {
   "codemirror_mode": {
    "name": "ipython",
    "version": 3
   },
   "file_extension": ".py",
   "mimetype": "text/x-python",
   "name": "python",
   "nbconvert_exporter": "python",
   "pygments_lexer": "ipython3",
   "version": "3.6.4"
  }
 },
 "nbformat": 4,
 "nbformat_minor": 2
}
