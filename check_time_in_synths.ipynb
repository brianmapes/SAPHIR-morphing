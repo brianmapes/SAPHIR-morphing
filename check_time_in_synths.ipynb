{
 "cells": [
  {
   "cell_type": "markdown",
   "metadata": {},
   "source": [
    "# Check time in SAPHIR \"synths\" \n",
    "## a synth is advected data from one orbit of the satellite\n",
    "### advected forward or backward\n",
    "#### Erfan Jahangir and Brian Mapes May 2018\n",
    "\n",
    "Matlab codes have been used to create a set of hourly \"synths\" consisting of NaN-filled arrays with one orbit swath of data advected to the (hourly) target hour. \n",
    "\n",
    "Debugging observation time\n",
    "---------\n",
    "---------"
   ]
  },
  {
   "cell_type": "code",
   "execution_count": 37,
   "metadata": {},
   "outputs": [],
   "source": [
    "import numpy as np \n",
    "import glob             # to list available files\n",
    "import scipy.io as spio # to read the .mat files\n",
    "import datetime"
   ]
  },
  {
   "cell_type": "markdown",
   "metadata": {},
   "source": [
    "------------\n",
    "# Set time of desired hourly product:\n",
    "------------"
   ]
  },
  {
   "cell_type": "code",
   "execution_count": 54,
   "metadata": {},
   "outputs": [
    {
     "name": "stdout",
     "output_type": "stream",
     "text": [
      "20120103T00,  time from 1970-1-1 is 15342 days, 0:00:00\n"
     ]
    }
   ],
   "source": [
    "now = datetime.datetime(2012,1,3,0,0) + datetime.timedelta(hours=0)\n",
    "\n",
    "\n",
    "prodtime = now - datetime.datetime(1970, 1, 1)\n",
    "print(now.strftime('%Y%m%dT%H,'), ' time from 1970-1-1 is', prodtime)"
   ]
  },
  {
   "cell_type": "markdown",
   "metadata": {},
   "source": [
    "# Now print time arrays in all synths (forward or backward)"
   ]
  },
  {
   "cell_type": "code",
   "execution_count": 58,
   "metadata": {},
   "outputs": [
    {
     "name": "stdout",
     "output_type": "stream",
     "text": [
      "Synths/2012-01-03T10-49-01backward20120103T000000.mat\n",
      "48710  non-missing values\n",
      "15341.958333333332  to  15342.041666666666\n",
      "2012-01-02 23:00:00  to  2012-01-03 01:00:00\n",
      "\n",
      "Synths/2012-01-02T23-38-09backward20120103T000000.mat\n",
      "48526  non-missing values\n",
      "15341.958333333332  to  15342.041666666666\n",
      "2012-01-02 23:00:00  to  2012-01-03 01:00:00\n",
      "\n",
      "Synths/2012-01-03T05-23-50backward20120103T000000.mat\n",
      "48234  non-missing values\n",
      "15341.958333333332  to  15342.041666666666\n",
      "2012-01-02 23:00:00  to  2012-01-03 01:00:00\n",
      "\n",
      "Synths/2012-01-03T01-30-27backward20120103T000000.mat\n",
      "47604  non-missing values\n",
      "15341.958333333332  to  15342.041666666666\n",
      "2012-01-02 23:00:00  to  2012-01-03 01:00:00\n",
      "\n",
      "Synths/2012-01-03T07-10-42backward20120103T000000.mat\n",
      "49296  non-missing values\n",
      "15341.958333333332  to  15342.041666666666\n",
      "2012-01-02 23:00:00  to  2012-01-03 01:00:00\n",
      "\n",
      "Synths/2012-01-03T16-17-29backward20120103T000000.mat\n",
      "46752  non-missing values\n",
      "15341.958333333332  to  15342.041666666666\n",
      "2012-01-02 23:00:00  to  2012-01-03 01:00:00\n",
      "\n",
      "Synths/2012-01-03T03-14-05backward20120103T000000.mat\n",
      "50374  non-missing values\n",
      "15341.958333333332  to  15342.041666666666\n",
      "2012-01-02 23:00:00  to  2012-01-03 01:00:00\n",
      "\n",
      "Synths/2012-01-03T08-59-42backward20120103T000000.mat\n",
      "49510  non-missing values\n",
      "15341.958333333332  to  15342.041666666666\n",
      "2012-01-02 23:00:00  to  2012-01-03 01:00:00\n",
      "\n",
      "Synths/2012-01-03T14-28-09backward20120103T000000.mat\n",
      "46204  non-missing values\n",
      "15341.958333333332  to  15342.041666666666\n",
      "2012-01-02 23:00:00  to  2012-01-03 01:00:00\n",
      "\n",
      "Synths/2012-01-03T12-38-40backward20120103T000000.mat\n",
      "47140  non-missing values\n",
      "15341.958333333332  to  15342.041666666666\n",
      "2012-01-02 23:00:00  to  2012-01-03 01:00:00\n",
      "\n"
     ]
    }
   ],
   "source": [
    "wildcard = 'Synths/*backward*' + now.strftime('%Y%m%dT%H') +'*mat'\n",
    "\n",
    "for idx,filename in enumerate(glob.iglob(wildcard), start=0):\n",
    "    print(filename) \n",
    "    mat = spio.loadmat(filename, squeeze_me=True, struct_as_record=False)\n",
    "    synth = mat['synth']\n",
    "    obtime = synth.time \n",
    "        \n",
    "    print( np.size(np.where(~np.isnan(synth.gridded))), ' non-missing values')\n",
    "    \n",
    "    print( np.min(obtime) , ' to ', np.max(obtime) )\n",
    "    \n",
    "    print( datetime.datetime(1970, 1, 1) + datetime.timedelta(seconds= 3600.*24*np.min(obtime)) , ' to ', \\\n",
    "           datetime.datetime(1970, 1, 1) + datetime.timedelta(seconds= 3600.*24*np.max(obtime)) )\n",
    "    \n",
    "    print()"
   ]
  },
  {
   "cell_type": "code",
   "execution_count": 59,
   "metadata": {},
   "outputs": [
    {
     "name": "stdout",
     "output_type": "stream",
     "text": [
      "Synths/2012-01-02T05-36-11forward20120103T000000.mat\n",
      "49166  non-missing values\n",
      "15340.583333333332  to  15340.666666666666\n",
      "2012-01-01 14:00:00  to  2012-01-01 16:00:00\n",
      "\n",
      "Synths/2012-01-02T07-22-57forward20120103T000000.mat\n",
      "48502  non-missing values\n",
      "15340.666666666666  to  15340.75\n",
      "2012-01-01 16:00:00  to  2012-01-01 18:00:00\n",
      "\n",
      "Synths/2012-01-02T16-29-27forward20120103T000000.mat\n",
      "48774  non-missing values\n",
      "15341.041666666666  to  15341.125\n",
      "2012-01-02 01:00:00  to  2012-01-02 03:00:00\n",
      "\n",
      "Synths/2012-01-02T09-11-34forward20120103T000000.mat\n",
      "47306  non-missing values\n",
      "15340.75  to  15340.833333333332\n",
      "2012-01-01 18:00:00  to  2012-01-01 20:00:00\n",
      "\n",
      "Synths/2012-01-02T22-06-39forward20120103T000000.mat\n",
      "42176  non-missing values\n",
      "15341.291666666666  to  15341.333333333332\n",
      "2012-01-02 07:00:00  to  2012-01-02 08:00:00\n",
      "\n",
      "Synths/2012-01-02T18-19-08forward20120103T000000.mat\n",
      "48994  non-missing values\n",
      "15341.125  to  15341.208333333332\n",
      "2012-01-02 03:00:00  to  2012-01-02 05:00:00\n",
      "\n",
      "Synths/2012-01-02T12-50-42forward20120103T000000.mat\n",
      "48616  non-missing values\n",
      "15340.875  to  15340.958333333332\n",
      "2012-01-01 21:00:00  to  2012-01-01 23:00:00\n",
      "\n",
      "Synths/2012-01-02T14-40-09forward20120103T000000.mat\n",
      "48674  non-missing values\n",
      "15340.958333333332  to  15341.041666666666\n",
      "2012-01-01 23:00:00  to  2012-01-02 01:00:00\n",
      "\n",
      "Synths/2012-01-02T20-10-12forward20120103T000000.mat\n",
      "32814  non-missing values\n",
      "15341.208333333332  to  15341.25\n",
      "2012-01-02 05:00:00  to  2012-01-02 06:00:00\n",
      "\n",
      "Synths/2012-01-02T11-12-23forward20120103T000000.mat\n",
      "44170  non-missing values\n",
      "15340.833333333332  to  15340.875\n",
      "2012-01-01 20:00:00  to  2012-01-01 21:00:00\n",
      "\n",
      "Synths/2012-01-02T11-00-22forward20120103T000000.mat\n",
      "47756  non-missing values\n",
      "15340.833333333332  to  15340.875\n",
      "2012-01-01 20:00:00  to  2012-01-01 21:00:00\n",
      "\n"
     ]
    }
   ],
   "source": [
    "wildcard = 'Synths/*forward*' + now.strftime('%Y%m%dT%H') +'*mat'\n",
    "\n",
    "for idx,filename in enumerate(glob.iglob(wildcard), start=0):\n",
    "    print(filename) \n",
    "    mat = spio.loadmat(filename, squeeze_me=True, struct_as_record=False)\n",
    "    synth = mat['synth']\n",
    "    obtime = synth.time \n",
    "        \n",
    "    print( np.size(np.where(~np.isnan(synth.gridded))), ' non-missing values')\n",
    "\n",
    "    print( np.min(obtime) , ' to ', np.max(obtime) )\n",
    "    \n",
    "    print( datetime.datetime(1970, 1, 1) + datetime.timedelta(seconds= 3600.*24*np.min(obtime)) , ' to ', \\\n",
    "           datetime.datetime(1970, 1, 1) + datetime.timedelta(seconds= 3600.*24*np.max(obtime)) )\n",
    "    print()"
   ]
  },
  {
   "cell_type": "code",
   "execution_count": null,
   "metadata": {},
   "outputs": [],
   "source": []
  },
  {
   "cell_type": "code",
   "execution_count": null,
   "metadata": {},
   "outputs": [],
   "source": []
  }
 ],
 "metadata": {
  "kernelspec": {
   "display_name": "Python 3",
   "language": "python",
   "name": "python3"
  },
  "language_info": {
   "codemirror_mode": {
    "name": "ipython",
    "version": 3
   },
   "file_extension": ".py",
   "mimetype": "text/x-python",
   "name": "python",
   "nbconvert_exporter": "python",
   "pygments_lexer": "ipython3",
   "version": "3.6.4"
  }
 },
 "nbformat": 4,
 "nbformat_minor": 2
}
