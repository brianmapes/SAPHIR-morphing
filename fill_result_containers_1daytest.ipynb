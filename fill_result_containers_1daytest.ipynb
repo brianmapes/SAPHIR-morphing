{
 "cells": [
  {
   "cell_type": "markdown",
   "metadata": {},
   "source": [
    "# Morphing water vapor from SAPHIR\n",
    "### Erfan Jahangir and Brian Mapes May 2018\n",
    "\n",
    "#### Matlab codes have been used to create a set of hourly \"synths\" analyzed in this 1-day test\n",
    "#### These arrays are [241, 721) values of RH for now, on a half degree grid 30S-30N\n",
    "\n",
    "\n",
    "---------\n"
   ]
  },
  {
   "cell_type": "code",
   "execution_count": 73,
   "metadata": {},
   "outputs": [
    {
     "name": "stdout",
     "output_type": "stream",
     "text": [
      "Synths/2012-07-01T02-44-02forward20120701T080000.mat\r\n",
      "Synths/2012-07-01T04-33-15forward20120701T080000.mat\r\n",
      "Synths/2012-07-01T06-23-14forward20120701T080000.mat\r\n",
      "Synths/2012-07-01T08-14-54backward20120701T080000.mat\r\n",
      "Synths/2012-07-01T09-25-27backward20120701T080000.mat\r\n",
      "Synths/2012-07-01T11-14-57backward20120701T080000.mat\r\n"
     ]
    }
   ],
   "source": [
    "!ls Synths/*20120701T08*mat"
   ]
  },
  {
   "cell_type": "markdown",
   "metadata": {},
   "source": [
    "#### General strategy of this notebook\n",
    "\n",
    "Like any programming job, we work backward from a result-shaped container, and forward from the most precious original data input whose value we are trying to optimize. These intentions make it natural to build the middle steps and grab auxiliary inputs, as necessary to achieve success. Initially we achieve success in the simplest way, then later add sophistication -- but only to the extent it improves signal and reduces noise, as seen in the initial success of the data products. \n",
    "\n",
    "In this case, the results-shaped container is a single 1/2-degree (for now) array of \n",
    "\n",
    "1. **WV** (water vapor)\n",
    "1. **AT** (the 'analysis tendency' of the morphing operation, representing all the physical source-sink terms). \n",
    "1. **t_early** (the time of the earlier observation that made the above products)\n",
    "1. **t_late** (the time of the later observation \" \" \" )\n",
    "\n",
    "In this case, the precious data is swaths of data, made up of pixels, of WV500 retrieved from SAPHIR channels by Helene Brignietz and colleagues. These input data include arrays of: \n",
    "\n",
    "* the WV **value** at each pixel\n",
    "* the **latitude** \" \" \" \n",
    "* the **longitude** \" \" \" \n",
    "* the **time of observation** \" \" \" \n",
    "\n",
    "----------"
   ]
  },
  {
   "cell_type": "code",
   "execution_count": 74,
   "metadata": {},
   "outputs": [],
   "source": [
    "import numpy as np \n",
    "import glob             # to list available files\n",
    "import scipy.io as spio # to read the .mat files"
   ]
  },
  {
   "cell_type": "markdown",
   "metadata": {},
   "source": [
    "## Step 1: Create the results-shaped containers  "
   ]
  },
  {
   "cell_type": "code",
   "execution_count": 75,
   "metadata": {},
   "outputs": [],
   "source": [
    "DX = 0.5 # degrees\n",
    "SOUTH = -60 # Central latitudes of southern grid  cells\n",
    "NORTH = 60  # \" \" northern \" \" \n",
    "WEST = 0 # Central longitude of westernmost cell\n",
    "EAST = 360 # \" \" easternmost \" \n",
    "\n",
    "# Build 1D spatial coordinate arrays \n",
    "NLAT = int( (NORTH-SOUTH)/DX +1)\n",
    "lat = np.linspace(SOUTH, NORTH, NLAT)\n",
    "\n",
    "NLON = int( (EAST-WEST)/DX +1)\n",
    "lon = np.linspace(WEST, EAST, NLON)\n",
    "\n",
    "\n",
    "# Now build containers for the results we desire\n",
    "# Which order? LON,LAT? or LAT,LON? The one the Matlab creates\n",
    "\n",
    "WV = np.zeros( (NLAT,NLON) )\n",
    "AT = np.zeros( (NLAT,NLON) )"
   ]
  },
  {
   "cell_type": "markdown",
   "metadata": {},
   "source": [
    "### Step 2: The things we need to fill the containers\n",
    "\n",
    "To fill the above arrays, we will use the *time-proximity-weighted average* for WV500:  \n",
    "\n",
    "$ WV500 = ( WV_{before}*dt_{after} + WV_{before}*dt_{after} )/(dt_{before} + dt_{after}) $ \n",
    "\n",
    "and the simplest *estimate of the time derivative* using the before and after observations:\n",
    "\n",
    "$ AT500 = ( WV_{after} - WV_{before})/(dt_{before} + dt_{after}) $ \n",
    "\n",
    "**Thus, we need $ WV_{before}, WV_{after}, dt_{before}, dt_{after}  $**\n",
    "\n",
    "----------------"
   ]
  },
  {
   "cell_type": "code",
   "execution_count": 76,
   "metadata": {},
   "outputs": [],
   "source": [
    "# Containers for the necessary quantities to get our final products\n",
    "\n",
    "WV_before = np.zeros( (NLAT,NLON) )\n",
    "WV_after  = np.zeros( (NLAT,NLON) )\n",
    "dt_before = np.zeros( (NLAT,NLON) )\n",
    "dt_after  = np.zeros( (NLAT,NLON) )"
   ]
  },
  {
   "cell_type": "markdown",
   "metadata": {},
   "source": [
    "## Now, how to get $ WV_{before}, WV_{after}, dt_{before}, dt_{after} $ ? \n",
    "\n",
    "#### We need two _time stacks_ of product-shaped lat-lon arrays. \n",
    "\n",
    "Two, because we need the VALUE and the TIME of each observation we put into the stack. \n",
    "\n",
    "These stack is a 3D array, centered on the product time (dt=0). It doesn't matter how long in time  this stack extends, as long as it is long enough that **every pixel in space has a before and an after observation**. That is, the DTMAX just has to be at least as big as the longest time gap between observations. Also, the time step between the layers in the stack just has to be short enough that we aren't wasting observations by over-writing some locations with multiple observations. Since the orbit time is about 100 minutes, 1 hour stacks are safe. \n",
    "\n",
    "Initially, let's make a container full of zeros. "
   ]
  },
  {
   "cell_type": "code",
   "execution_count": 77,
   "metadata": {},
   "outputs": [],
   "source": [
    "DTMAX = 6    # hours. The size of the centered stack will then be 2*DTMAX+1. \n",
    "\n",
    "WV_stack =  np.zeros( (NLAT,NLON, 2*DTMAX+1) )\n",
    "tobs_stack = np.zeros( (NLAT,NLON, 2*DTMAX+1) )"
   ]
  },
  {
   "cell_type": "code",
   "execution_count": 78,
   "metadata": {},
   "outputs": [
    {
     "name": "stdout",
     "output_type": "stream",
     "text": [
      "Variable     Type          Data/Info\n",
      "------------------------------------\n",
      "AT           ndarray       241x721: 173761 elems, type `float64`, 1390088 bytes (1.3256912231445312 Mb)\n",
      "DTMAX        int           6\n",
      "DTstack      int           1\n",
      "DX           float         0.5\n",
      "EAST         int           360\n",
      "NLAT         int           241\n",
      "NLON         int           721\n",
      "NORTH        int           60\n",
      "SOUTH        int           -60\n",
      "WEST         int           0\n",
      "WV           ndarray       241x721: 173761 elems, type `float64`, 1390088 bytes (1.3256912231445312 Mb)\n",
      "WV_after     ndarray       241x721: 173761 elems, type `float64`, 1390088 bytes (1.3256912231445312 Mb)\n",
      "WV_before    ndarray       241x721: 173761 elems, type `float64`, 1390088 bytes (1.3256912231445312 Mb)\n",
      "WV_stack     ndarray       241x721x13: 2258893 elems, type `float64`, 18071144 bytes (17.233985900878906 Mb)\n",
      "dt_after     ndarray       241x721: 173761 elems, type `float64`, 1390088 bytes (1.3256912231445312 Mb)\n",
      "dt_before    ndarray       241x721: 173761 elems, type `float64`, 1390088 bytes (1.3256912231445312 Mb)\n",
      "filename     str           Synths/2012-07-01T02-44-0<...>orward20120701T080000.mat\n",
      "glob         module        <module 'glob' from '/Use<...>4/lib/python3.6/glob.py'>\n",
      "it           float64       12.0\n",
      "lat          ndarray       241: 241 elems, type `float64`, 1928 bytes\n",
      "listfiles    str           Synths/*20120701T08*mat\n",
      "lon          ndarray       721: 721 elems, type `float64`, 5768 bytes\n",
      "mat          dict          n=4\n",
      "np           module        <module 'numpy' from '/Us<...>kages/numpy/__init__.py'>\n",
      "os           module        <module 'os' from '/Users<...>624/lib/python3.6/os.py'>\n",
      "spio         module        <module 'scipy.io' from '<...>es/scipy/io/__init__.py'>\n",
      "synth        mat_struct    <scipy.io.matlab.mio5_par<...>ct object at 0x121e52470>\n",
      "tnow         int           8\n",
      "tobs_stack   ndarray       241x721x13: 2258893 elems, type `float64`, 18071144 bytes (17.233985900878906 Mb)\n"
     ]
    }
   ],
   "source": [
    "whos"
   ]
  },
  {
   "cell_type": "markdown",
   "metadata": {},
   "source": [
    "# Now the real data work is clear.\n",
    "\n",
    "1. **How do we interrogate the stack** to get $ WV_{before}, WV_{after}, dt_{before}, dt_{after} $? \n",
    "    * For each location (lat,lon), the stack is a time series of length 2\\*DTMAX+1. \n",
    "    * Need a method to find nonzero values closest to dt=0 (the center of the series). \n",
    "    * Special case: when there is an observation in dt=0, that is WV -- but what is AT?\n",
    "1. **How do we fill the stack initially**, from the set of observation pixels within DTMAX of the time of the product? \n",
    "    * Loop over all the pixels in the input data within +/- DTMAX of the product hour. \n",
    "        * Each pixel has these values: {WVobs, tobs, latobs, lonobs}.\n",
    "    * Place the pixel in the dt=0 layer of WV_stack and tobs_stack, at location (latobs, lonobs)\n",
    "    * Place the pixel in the dt=1 layer at (latobs +v\\*DT_stack\\*1, lonobs +u\\*DT_stack\\*1)\n",
    "        * this requires obtaining wind data u,v for that location (reanalysis u500,v500)\n",
    "    * etc. for other dt layers in the stack\n",
    "1. **How do we repeat the process for the next product hour?** \n",
    "    * We could start the whole process over from np.zeros(). Inefficient but safe. \n",
    "    * Better from efficieny perspective is to \n",
    "        * np.roll(WV_stack), np.roll(tobs_stack) to recenter the stack on the next hour.\n",
    "        * WV_stack[:,:,DTMAX\\*2]=0  to clobber where the periodic roll() operation has shifted past data into the future\n",
    "        * Now just fill that future stack time, WV_stack[:,:,DTMAX\\*2], with real data\n",
    "            * this involves querying the satellite data up to DTMAX hours ahead of that time, shifting it all backward in time\n",
    "            * (latobs -v\\*DT_stack\\*DTMAX, latobs -u\\*DT_stack\\*DTMAX)\n",
    "            * (latobs -v\\*DT_stack\\*(DTMAX-1), latobs -u\\*DT_stack\\*(DTMAX-1))\n",
    "            * etc. "
   ]
  },
  {
   "cell_type": "markdown",
   "metadata": {},
   "source": [
    "# First time: fill the stack for a given time"
   ]
  },
  {
   "cell_type": "code",
   "execution_count": 96,
   "metadata": {},
   "outputs": [
    {
     "data": {
      "text/plain": [
       "'Synths/*20120701T08*mat'"
      ]
     },
     "execution_count": 96,
     "metadata": {},
     "output_type": "execute_result"
    }
   ],
   "source": [
    "tnow = 8  # well away from the ends of the data available\n",
    "listfiles = 'Synths/*20120701T' + str(tnow).zfill(2) +'*mat'\n",
    "listfiles"
   ]
  },
  {
   "cell_type": "code",
   "execution_count": 98,
   "metadata": {
    "scrolled": true
   },
   "outputs": [
    {
     "name": "stdout",
     "output_type": "stream",
     "text": [
      "Synths/2012-07-01T02-44-02forward20120701T080000.mat\r\n",
      "Synths/2012-07-01T04-33-15forward20120701T080000.mat\r\n",
      "Synths/2012-07-01T06-23-14forward20120701T080000.mat\r\n",
      "Synths/2012-07-01T08-14-54backward20120701T080000.mat\r\n",
      "Synths/2012-07-01T09-25-27backward20120701T080000.mat\r\n",
      "Synths/2012-07-01T11-14-57backward20120701T080000.mat\r\n"
     ]
    }
   ],
   "source": [
    "!ls Synths/*20120701T08*mat"
   ]
  },
  {
   "cell_type": "code",
   "execution_count": 106,
   "metadata": {
    "scrolled": true
   },
   "outputs": [
    {
     "name": "stdout",
     "output_type": "stream",
     "text": [
      "Populating the interactive namespace from numpy and matplotlib\n"
     ]
    },
    {
     "name": "stderr",
     "output_type": "stream",
     "text": [
      "/Users/bem/miniconda3/envs/MPO624/lib/python3.6/site-packages/IPython/core/magics/pylab.py:160: UserWarning: pylab import has clobbered these variables: ['mat']\n",
      "`%matplotlib` prevents importing * from pylab and numpy\n",
      "  \"\\n`%matplotlib` prevents importing * from pylab and numpy\"\n"
     ]
    }
   ],
   "source": [
    "%pylab inline"
   ]
  },
  {
   "cell_type": "code",
   "execution_count": 125,
   "metadata": {},
   "outputs": [
    {
     "name": "stdout",
     "output_type": "stream",
     "text": [
      "synth.synthTime 15522.333333333332\n",
      "tDisp_hrs 4.406247573919245\n"
     ]
    },
    {
     "name": "stderr",
     "output_type": "stream",
     "text": [
      "/Users/bem/miniconda3/envs/MPO624/lib/python3.6/site-packages/ipykernel_launcher.py:7: RuntimeWarning: invalid value encountered in less\n",
      "  import sys\n"
     ]
    },
    {
     "data": {
      "text/plain": [
       "<matplotlib.colorbar.Colorbar at 0x1315b0748>"
      ]
     },
     "execution_count": 125,
     "metadata": {},
     "output_type": "execute_result"
    },
    {
     "data": {
      "image/png": "[encoded data removed]",
      "text/plain": [
       "<matplotlib.figure.Figure at 0x12f673208>"
      ]
     },
     "metadata": {},
     "output_type": "display_data"
    }
   ],
   "source": [
    "filename = 'Synths/2012-07-01T11-14-57backward20120701T080000.mat'\n",
    "#'Synths/2012-07-01T02-44-02forward20120701T080000.mat'\n",
    "\n",
    "mat = spio.loadmat(filename, squeeze_me=True, struct_as_record=False)\n",
    "synth = mat['synth']    \n",
    "data = synth.gridded\n",
    "data [data < 0] = np.nan # get rid of the -9899 values in the data \n",
    "\n",
    "print('synth.synthTime', synth.synthTime)\n",
    "print('tDisp_hrs', synth.tDisp_hrs)\n",
    "imshow(data); title(filename); colorbar()"
   ]
  },
  {
   "cell_type": "code",
   "execution_count": 134,
   "metadata": {},
   "outputs": [
    {
     "data": {
      "text/plain": [
       "6"
      ]
     },
     "execution_count": 134,
     "metadata": {},
     "output_type": "execute_result"
    }
   ],
   "source": [
    "size(glob.glob(listfiles))"
   ]
  },
  {
   "cell_type": "code",
   "execution_count": 144,
   "metadata": {},
   "outputs": [
    {
     "name": "stdout",
     "output_type": "stream",
     "text": [
      "Synths/2012-07-01T02-44-02forward20120701T080000.mat\n",
      "synth.synthTime 15522.333333333332\n",
      "tDisp_hrs -4.3162907176301815\n",
      "Synths/2012-07-01T04-33-15forward20120701T080000.mat\n",
      "synth.synthTime 15522.333333333332\n",
      "tDisp_hrs -2.4899183198431274\n",
      "Synths/2012-07-01T06-23-14forward20120701T080000.mat\n",
      "synth.synthTime 15522.333333333332\n",
      "tDisp_hrs -0.6455710948939668\n",
      "Synths/2012-07-01T08-14-54backward20120701T080000.mat\n",
      "synth.synthTime 15522.333333333332\n",
      "tDisp_hrs 0.8734107176132966\n",
      "Synths/2012-07-01T09-25-27backward20120701T080000.mat\n",
      "synth.synthTime 15522.333333333332\n",
      "tDisp_hrs 2.373961858349503\n",
      "Synths/2012-07-01T11-14-57backward20120701T080000.mat\n",
      "synth.synthTime 15522.333333333332\n",
      "tDisp_hrs 4.406247573919245\n"
     ]
    },
    {
     "name": "stderr",
     "output_type": "stream",
     "text": [
      "/Users/bem/miniconda3/envs/MPO624/lib/python3.6/site-packages/ipykernel_launcher.py:9: RuntimeWarning: invalid value encountered in less\n",
      "  if __name__ == '__main__':\n"
     ]
    }
   ],
   "source": [
    "WV_stack =  np.zeros( (NLAT,NLON, size(glob.glob(listfiles))) )\n",
    "tobs_stack= np.zeros( (NLAT,NLON, size(glob.glob(listfiles))) )\n",
    "\n",
    "for idx,filename in enumerate(glob.iglob(listfiles), start=0):\n",
    "    print('%s' % filename)\n",
    "    mat = spio.loadmat(filename, squeeze_me=True, struct_as_record=False)\n",
    "    synth = mat['synth']\n",
    "    data = synth.gridded\n",
    "    data [data < 0] = np.nan\n",
    "    print('synth.synthTime', synth.synthTime)\n",
    "    print('tDisp_hrs', synth.tDisp_hrs)\n",
    "    \n",
    "    WV_stack  [:,:,idx] = data \n",
    "    tobs_stack[:,:,idx] = synth.tDisp_hrs + data*0 # this propagates the nan mask to missing areas "
   ]
  },
  {
   "cell_type": "code",
   "execution_count": 148,
   "metadata": {},
   "outputs": [
    {
     "name": "stderr",
     "output_type": "stream",
     "text": [
      "/Users/bem/miniconda3/envs/MPO624/lib/python3.6/site-packages/ipykernel_launcher.py:1: RuntimeWarning: Mean of empty slice\n",
      "  \"\"\"Entry point for launching an IPython kernel.\n"
     ]
    },
    {
     "data": {
      "text/plain": [
       "<matplotlib.colorbar.Colorbar at 0x12b5868d0>"
      ]
     },
     "execution_count": 148,
     "metadata": {},
     "output_type": "execute_result"
    },
    {
     "data": {
      "image/png": "[encoded data removed]",
      "text/plain": [
       "<matplotlib.figure.Figure at 0x1294b10b8>"
      ]
     },
     "metadata": {},
     "output_type": "display_data"
    }
   ],
   "source": [
    "imshow(np.nanmean(WV_stack, axis=2)); title('simple mean'); colorbar()"
   ]
  },
  {
   "cell_type": "code",
   "execution_count": 163,
   "metadata": {},
   "outputs": [
    {
     "name": "stderr",
     "output_type": "stream",
     "text": [
      "/Users/bem/miniconda3/envs/MPO624/lib/python3.6/site-packages/ipykernel_launcher.py:1: RuntimeWarning: Mean of empty slice\n",
      "  \"\"\"Entry point for launching an IPython kernel.\n"
     ]
    },
    {
     "data": {
      "text/plain": [
       "<matplotlib.colorbar.Colorbar at 0x11d581710>"
      ]
     },
     "execution_count": 163,
     "metadata": {},
     "output_type": "execute_result"
    },
    {
     "data": {
      "image/png": "[encoded data removed]",
      "text/plain": [
       "<matplotlib.figure.Figure at 0x11d91b780>"
      ]
     },
     "metadata": {},
     "output_type": "display_data"
    }
   ],
   "source": [
    "imshow(np.nanmean(tobs_stack, axis=2), cmap='seismic'); title('obs time offset'); colorbar()"
   ]
  },
  {
   "cell_type": "code",
   "execution_count": 162,
   "metadata": {},
   "outputs": [
    {
     "name": "stderr",
     "output_type": "stream",
     "text": [
      "/Users/bem/miniconda3/envs/MPO624/lib/python3.6/site-packages/ipykernel_launcher.py:1: RuntimeWarning: Mean of empty slice\n",
      "  \"\"\"Entry point for launching an IPython kernel.\n"
     ]
    },
    {
     "data": {
      "text/plain": [
       "<matplotlib.colorbar.Colorbar at 0x11cd65208>"
      ]
     },
     "execution_count": 162,
     "metadata": {},
     "output_type": "execute_result"
    },
    {
     "data": {
      "image/png": "[encoded data removed]",
      "text/plain": [
       "<matplotlib.figure.Figure at 0x11cd5ce10>"
      ]
     },
     "metadata": {},
     "output_type": "display_data"
    }
   ],
   "source": [
    "diffs = np.nanmean(WV_stack[:,:,3:], axis=2) - np.nanmean(WV_stack[:,:,0:3], axis=2)\n",
    "imshow(diffs, cmap='seismic'); title('simple Lagrangian time derivative'); colorbar()"
   ]
  },
  {
   "cell_type": "code",
   "execution_count": null,
   "metadata": {},
   "outputs": [],
   "source": []
  }
 ],
 "metadata": {
  "kernelspec": {
   "display_name": "Python 3",
   "language": "python",
   "name": "python3"
  },
  "language_info": {
   "codemirror_mode": {
    "name": "ipython",
    "version": 3
   },
   "file_extension": ".py",
   "mimetype": "text/x-python",
   "name": "python",
   "nbconvert_exporter": "python",
   "pygments_lexer": "ipython3",
   "version": "3.6.4"
  }
 },
 "nbformat": 4,
 "nbformat_minor": 2
}
