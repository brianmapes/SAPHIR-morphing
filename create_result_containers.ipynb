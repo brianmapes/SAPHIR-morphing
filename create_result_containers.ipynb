{
 "cells": [
  {
   "cell_type": "markdown",
   "metadata": {},
   "source": [
    "# Morphing water vapor from SAPHIR\n",
    "### Erfan Jahangir and Brian Mapes March 2017"
   ]
  },
  {
   "cell_type": "markdown",
   "metadata": {},
   "source": [
    "#### General strategy of this notebook\n",
    "\n",
    "Like any programming job, we work backward from a result-shaped container, and forward from the most precious original data input whose value we are trying to optimize. These intentions make it natural to build the middle steps and grab auxiliary inputs, as necessary to achieve success. Initially we achieve success in the simplest way, then later add sophistication -- but only to the extent it improves signal and reduces noise, as seen in the initial success of the data products. \n",
    "\n",
    "In this case, the results-shaped container is a single 1/2-degree (for now) array of \n",
    "\n",
    "1. **WV** (water vapor)\n",
    "1. **AT** (the 'analysis tendency' of the morphing operation, representing all the physical source-sink terms). \n",
    "1. **t_early** (the time of the earlier observation that made the above products)\n",
    "1. **t_late** (the time of the later observation \" \" \" )\n",
    "\n",
    "In this case, the precious data is swaths of data, made up of pixels, of WV500 retrieved from SAPHIR channels by Helene Brignietz and colleagues. These input data include arrays of: \n",
    "\n",
    "* the WV **value** at each pixel\n",
    "* the **latitude** \" \" \" \n",
    "* the **longitude** \" \" \" \n",
    "* the **time of observation** \" \" \" \n",
    "\n",
    "----------"
   ]
  },
  {
   "cell_type": "code",
   "execution_count": 35,
   "metadata": {},
   "outputs": [],
   "source": [
    "import numpy as np "
   ]
  },
  {
   "cell_type": "markdown",
   "metadata": {},
   "source": [
    "### Step 1: Create the results-shaped containers  "
   ]
  },
  {
   "cell_type": "code",
   "execution_count": 39,
   "metadata": {},
   "outputs": [],
   "source": [
    "DX = 0.5 # degrees\n",
    "SOUTH = -30 # Central latitudes of southern grid  cells\n",
    "NORTH = 30  # \" \" northern \" \" \n",
    "WEST = 0.25 # Central longitude of westernmost cell\n",
    "EAST = 359.75 # \" \" easternmost \" \n",
    "\n",
    "# Build 1D spatial coordinate arrays \n",
    "NLAT = int( (NORTH-SOUTH)/DX )\n",
    "lat = np.linspace(SOUTH, NORTH, NLAT)\n",
    "\n",
    "NLON = int( (EAST-WEST)/DX )\n",
    "lon = np.linspace(WEST, EAST, NLON)\n",
    "\n",
    "\n",
    "# Now build containers for the results we desire\n",
    "# Which order? LON,LAT? or LAT,LON? \n",
    "\n",
    "WV = np.zeros( (NLON,NLAT) )\n",
    "AT = np.zeros( (NLON,NLAT) )"
   ]
  },
  {
   "cell_type": "code",
   "execution_count": 40,
   "metadata": {},
   "outputs": [
    {
     "name": "stdout",
     "output_type": "stream",
     "text": [
      "Variable    Type       Data/Info\n",
      "--------------------------------\n",
      "AT          ndarray    719x120: 86280 elems, type `float64`, 690240 bytes (674.0625 kb)\n",
      "AT500       ndarray    719x120: 86280 elems, type `float64`, 690240 bytes (674.0625 kb)\n",
      "DX          float      0.5\n",
      "EAST        float      359.75\n",
      "NLAT        int        120\n",
      "NLON        int        719\n",
      "NORTH       int        30\n",
      "SLAT        int        -30\n",
      "SOUTH       int        -30\n",
      "WEST        float      0.25\n",
      "WV          ndarray    719x120: 86280 elems, type `float64`, 690240 bytes (674.0625 kb)\n",
      "WV500       ndarray    719x120: 86280 elems, type `float64`, 690240 bytes (674.0625 kb)\n",
      "dt_after    ndarray    719x120: 86280 elems, type `float64`, 690240 bytes (674.0625 kb)\n",
      "dt_before   ndarray    719x120: 86280 elems, type `float64`, 690240 bytes (674.0625 kb)\n",
      "lat         ndarray    120: 120 elems, type `float64`, 960 bytes\n",
      "lon         ndarray    719: 719 elems, type `float64`, 5752 bytes\n",
      "np          module     <module 'numpy' from '//a<...>kages/numpy/__init__.py'>\n"
     ]
    }
   ],
   "source": [
    "whos"
   ]
  },
  {
   "cell_type": "markdown",
   "metadata": {},
   "source": [
    "### Step 2: The things we need to fill the containers\n",
    "\n",
    "To fill the above arrays, we will use the *time-proximity-weighted average* for WV500:  \n",
    "\n",
    "$ WV500 = ( WV_{before}*dt_{after} + WV_{before}*dt_{after} )/(dt_{before} + dt_{after}) $ \n",
    "\n",
    "and the simplest *estimate of the time derivative* using the before and after observations:\n",
    "\n",
    "$ AT500 = ( WV_{after} - WV_{before})/(dt_{before} + dt_{after}) $ \n",
    "\n",
    "**Thus, we need $ WV_{before}, WV_{after}, dt_{before}, dt_{after}  $**\n",
    "\n",
    "----------------"
   ]
  },
  {
   "cell_type": "code",
   "execution_count": 43,
   "metadata": {},
   "outputs": [],
   "source": [
    "# Containers for the necessary quantities to get our final products\n",
    "\n",
    "WV_before = np.zeros( (NLON,NLAT) )\n",
    "WV_after  = np.zeros( (NLON,NLAT) )\n",
    "dt_before = np.zeros( (NLON,NLAT) )\n",
    "dt_after  = np.zeros( (NLON,NLAT) )"
   ]
  },
  {
   "cell_type": "code",
   "execution_count": 44,
   "metadata": {},
   "outputs": [
    {
     "name": "stdout",
     "output_type": "stream",
     "text": [
      "Variable    Type       Data/Info\n",
      "--------------------------------\n",
      "AT          ndarray    719x120: 86280 elems, type `float64`, 690240 bytes (674.0625 kb)\n",
      "AT500       ndarray    719x120: 86280 elems, type `float64`, 690240 bytes (674.0625 kb)\n",
      "DX          float      0.5\n",
      "EAST        float      359.75\n",
      "NLAT        int        120\n",
      "NLON        int        719\n",
      "NORTH       int        30\n",
      "SLAT        int        -30\n",
      "SOUTH       int        -30\n",
      "WEST        float      0.25\n",
      "WV          ndarray    719x120: 86280 elems, type `float64`, 690240 bytes (674.0625 kb)\n",
      "WV500       ndarray    719x120: 86280 elems, type `float64`, 690240 bytes (674.0625 kb)\n",
      "WV_after    ndarray    719x120: 86280 elems, type `float64`, 690240 bytes (674.0625 kb)\n",
      "WV_before   ndarray    719x120: 86280 elems, type `float64`, 690240 bytes (674.0625 kb)\n",
      "dt_after    ndarray    719x120: 86280 elems, type `float64`, 690240 bytes (674.0625 kb)\n",
      "dt_before   ndarray    719x120: 86280 elems, type `float64`, 690240 bytes (674.0625 kb)\n",
      "lat         ndarray    120: 120 elems, type `float64`, 960 bytes\n",
      "lon         ndarray    719: 719 elems, type `float64`, 5752 bytes\n",
      "np          module     <module 'numpy' from '//a<...>kages/numpy/__init__.py'>\n"
     ]
    }
   ],
   "source": [
    "whos"
   ]
  },
  {
   "cell_type": "markdown",
   "metadata": {},
   "source": [
    "## Now, how to get $ WV_{before}, WV_{after}, dt_{before}, dt_{after} $ ? \n",
    "\n",
    "#### We need two _time stacks_ of product-shaped lat-lon arrays. \n",
    "\n",
    "Two, because we need the VALUE and the TIME of each observation we put into the stack. \n",
    "\n",
    "These stack is a 3D array, centered on the product time (dt=0). It doesn't matter how long in time  this stack extends, as long as it is long enough that **every pixel in space has a before and an after observation**. That is, the DTMAX just has to be at least as big as the longest time gap between observations. Also, the time step between the layers in the stack just has to be short enough that we aren't wasting observations by over-writing some locations with multiple observations. Since the orbit time is about 100 minutes, 1 hour stacks are safe. \n",
    "\n",
    "Initially, let's make a container full of zeros. "
   ]
  },
  {
   "cell_type": "code",
   "execution_count": 45,
   "metadata": {},
   "outputs": [],
   "source": [
    "DTMAX = 6    # hours. The size of the centered stack will then be 2*DTMAX+1. \n",
    "DTstack = 1  # hour\n",
    "\n",
    "WV_stack = np.zeros( (NLON,NLAT, 2*DTMAX+1) )\n",
    "tobs_stack = np.zeros( (NLON,NLAT, 2*DTMAX+1) )"
   ]
  },
  {
   "cell_type": "code",
   "execution_count": 46,
   "metadata": {},
   "outputs": [
    {
     "name": "stdout",
     "output_type": "stream",
     "text": [
      "Variable     Type       Data/Info\n",
      "---------------------------------\n",
      "AT           ndarray    719x120: 86280 elems, type `float64`, 690240 bytes (674.0625 kb)\n",
      "AT500        ndarray    719x120: 86280 elems, type `float64`, 690240 bytes (674.0625 kb)\n",
      "DTMAX        int        6\n",
      "DTstack      int        1\n",
      "DX           float      0.5\n",
      "EAST         float      359.75\n",
      "NLAT         int        120\n",
      "NLON         int        719\n",
      "NORTH        int        30\n",
      "SLAT         int        -30\n",
      "SOUTH        int        -30\n",
      "WEST         float      0.25\n",
      "WV           ndarray    719x120: 86280 elems, type `float64`, 690240 bytes (674.0625 kb)\n",
      "WV500        ndarray    719x120: 86280 elems, type `float64`, 690240 bytes (674.0625 kb)\n",
      "WV_after     ndarray    719x120: 86280 elems, type `float64`, 690240 bytes (674.0625 kb)\n",
      "WV_before    ndarray    719x120: 86280 elems, type `float64`, 690240 bytes (674.0625 kb)\n",
      "WV_stack     ndarray    719x120x13: 1121640 elems, type `float64`, 8973120 bytes (8.55743408203125 Mb)\n",
      "dt_after     ndarray    719x120: 86280 elems, type `float64`, 690240 bytes (674.0625 kb)\n",
      "dt_before    ndarray    719x120: 86280 elems, type `float64`, 690240 bytes (674.0625 kb)\n",
      "lat          ndarray    120: 120 elems, type `float64`, 960 bytes\n",
      "lon          ndarray    719: 719 elems, type `float64`, 5752 bytes\n",
      "np           module     <module 'numpy' from '//a<...>kages/numpy/__init__.py'>\n",
      "tobs_stack   ndarray    719x120x13: 1121640 elems, type `float64`, 8973120 bytes (8.55743408203125 Mb)\n"
     ]
    }
   ],
   "source": [
    "whos"
   ]
  },
  {
   "cell_type": "code",
   "execution_count": null,
   "metadata": {},
   "outputs": [],
   "source": []
  }
 ],
 "metadata": {
  "kernelspec": {
   "display_name": "Python 3",
   "language": "python",
   "name": "python3"
  },
  "language_info": {
   "codemirror_mode": {
    "name": "ipython",
    "version": 3
   },
   "file_extension": ".py",
   "mimetype": "text/x-python",
   "name": "python",
   "nbconvert_exporter": "python",
   "pygments_lexer": "ipython3",
   "version": "3.6.4"
  }
 },
 "nbformat": 4,
 "nbformat_minor": 2
}
